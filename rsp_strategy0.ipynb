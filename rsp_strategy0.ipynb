import timeout_decorator
import time
import numpy as np
import random
import math

class RSP_Agent:
    def __init__(self, num_match=10000):
        pass

    @timeout_decorator.timeout(1)
    def output_hand(self):
        hand = random.randint(0, 2)
        return hand
