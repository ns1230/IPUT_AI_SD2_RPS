import timeout_decorator
import time
import numpy as np
import random
import math

class RSP_Agent:
    def __init__(self, num_match=10000):
        self.cnt = 0
        self.num_match = num_match
        self.my_hands = []
        self.oppo_hands = []
        self.debug_seek = []

    @timeout_decorator.timeout(1)
    def output_hand(self):
        #ver.0
        #hand = random.randint(0, 2)

        
        #ver.1 - 相手の一個前に勝つ手
        last_oppo_hand = self.oppo_hands[-1] if self.oppo_hands else None
        self.debug_seek = last_oppo_hand

        if last_oppo_hand is None:
            # If no previous move is available, choose a random move
            hand = random.randint(0, 2)
        else:
            # Implement a rule-based strategy based on the opponent's last move
            if last_oppo_hand == 0:  # Opponent played "Rock"
                hand = 2  # Choose "Paper" to counter
            elif last_oppo_hand == 1:  # Opponent played "Scissors"
                hand = 0  # Choose "Rock" to counter
            else:  # Opponent played "Paper"
                hand = 1  # Choose "Scissors" to counter
                
        self.my_hands.append(hand)
        return hand
        
        '''
        #ver.2 - 相手の一個前と同じ
        last_oppo_hand = self.oppo_hands[-1] if self.oppo_hands else None
        self.debug_seek = last_oppo_hand

        if last_oppo_hand is None:
            # If no previous move is available, choose a random move
            hand = random.randint(0, 2)
        else:
            # Implement a rule-based strategy based on the opponent's last move
            if last_oppo_hand == 0:  # Opponent played "Rock"
                hand = 0  # Choose "Paper" to counter
            elif last_oppo_hand == 1:  # Opponent played "Scissors"
                hand = 1  # Choose "Rock" to counter
            else:  # Opponent played "Paper"
                hand = 2  # Choose "Scissors" to counter
        
        self.my_hands.append(hand)
        return hand


        #ver.3  Win-Stay, Lose-Shift: In this strategy, you remember your own previous move and repeat it if you win, but switch to a different move if you lose. 
        #This strategy aims to capitalize on winning streaks and adapt to break losing streaks.
        last_oppo_hand = self.oppo_hands[-1] if self.oppo_hands else None
        self.debug_seek = last_oppo_hand

        if last_oppo_hand is None:
            # If no previous move is available, choose a random move
            hand = random.randint(0, 2)
        else:
            if self.cnt > 1 and self.my_hands[-1] == self.oppo_hands[-1]:
                # If the agent won or drew the previous round, repeat the same move
                hand = self.my_hands[-1]
            else:
                # If the agent lost, shift to a different move
                hand = (self.my_hands[-1] + 1) % 3  # Choose the next move in a cyclic manner

        self.my_hands.append(hand)
        return hand

        #ver.4 Statistical Analysis: calculates the frequency of the opponent's previous moves and chooses the move with the highest frequency as the next move. 
        #If there is a tie, it randomly selects one of the moves with the highest frequency. 
        #This strategy aims to exploit any patterns or biases in the opponent's play by analyzing their historical moves.
        last_oppo_hand = self.oppo_hands[-1] if self.oppo_hands else None
        self.debug_seek = last_oppo_hand

        if last_oppo_hand is None:
            # If no previous move is available, choose a random move
            hand = random.randint(0, 2)
        else:
            # Perform statistical analysis based on opponent's previous moves
            freq = [0, 0, 0]  # Frequency of opponent's moves: [Rock, Paper, Scissors]
            for oppo_hand in self.oppo_hands:
                freq[oppo_hand] += 1

            # Choose the move that wins against the opponent's highest frequency move
            highest_freq_hand = freq.index(max(freq))
            hand = (highest_freq_hand + 1) % 3

        self.my_hands.append(hand)
        return hand


        #ver.5 Statistical Analysis: calculates the frequency of the opponent's previous moves and chooses the move with the highest frequency as the next move. 
        #If there is a tie, it randomly selects one of the moves with the highest frequency. 
        #This strategy aims to exploit any patterns or biases in the opponent's play by analyzing their historical moves.
        last_oppo_hand = self.oppo_hands[-1] if self.oppo_hands else None
        self.debug_seek = last_oppo_hand

        if last_oppo_hand is None:
            # If no previous move is available, choose a random move
            hand = random.randint(0, 2)
        else:
            # Perform statistical analysis based on opponent's previous moves
            freq = [0, 0, 0]  # Frequency of opponent's moves: [Rock, Paper, Scissors]
            for hand in self.oppo_hands:
                freq[hand] += 1

            # Choose the move with the highest frequency as the next move
            max_freq = max(freq)
            hand = freq.index(max_freq)

        self.my_hands.append(hand)
        return hand
        


        #ver.6   It keeps track of the opponent's previous moves and compares them with the current history of moves. 
        #If a match is found, it plays the move that follows the matched history. Otherwise, it chooses a random move. 
        #This strategy attempts to predict the opponent's next move based on patterns observed in previous moves and exploit those patterns to gain an advantage.
        last_oppo_hand = self.oppo_hands[-1] if self.oppo_hands else None
        self.debug_seek = last_oppo_hand

        if last_oppo_hand is None:
            # If no previous move is available, choose a random move
            hand = random.randint(0, 2)
        else:
            # Perform statistical analysis based on previous moves
            move_counts = defaultdict(int)
            for i in range(len(self.oppo_hands) - 1):
                history = tuple(self.oppo_hands[i:i+1] + self.my_hands[i:i+1])
                move_counts[history] += 1

            # Find the most frequent opponent move following your move
            max_frequency = 0
            most_frequent_move = None
            for i in range(3):
                history = (last_oppo_hand, i)
                frequency = move_counts[history]
                if frequency > max_frequency:
                    max_frequency = frequency
                    most_frequent_move = i

            if most_frequent_move is not None:
                # If a statistically significant correlation is found, play the move that maximizes your chances of winning against the pattern
                hand = (most_frequent_move + 2) % 3
            else:
                # If no significant correlation is found, choose a random move
                hand = random.randint(0, 2)

        self.my_hands.append(hand)
        return hand

    def get_hand(self, x):
        self.cnt += 1
        self.oppo_hands.append(x)
